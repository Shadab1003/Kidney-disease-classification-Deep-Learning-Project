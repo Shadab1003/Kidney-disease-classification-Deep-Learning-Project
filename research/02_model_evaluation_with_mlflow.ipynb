{
 "cells": [
  {
   "cell_type": "code",
   "execution_count": 1,
   "metadata": {},
   "outputs": [],
   "source": [
    "import os\n",
    "os.environ[\"MLFLOW_TRACKING_URI\"]=\"https://dagshub.com/ahmed11shadab/Kidney-disease-classification-Deep-Learning-Project.mlflow\" \n",
    "os.environ[\"MLFLOW_TRACKING_USERNAME\"]=\"ahmed11shadab\" \n",
    "os.environ[\"MLFLOW_TRACKING_PASSWORD\"]=\"cf8fd5b80ebcdcd375ac5be531e59ef45300cb70\" \n"
   ]
  },
  {
   "cell_type": "code",
   "execution_count": 10,
   "metadata": {},
   "outputs": [],
   "source": [
    "import tensorflow as tf"
   ]
  },
  {
   "cell_type": "code",
   "execution_count": 16,
   "metadata": {},
   "outputs": [],
   "source": [
    "model = tf.keras.models.load_model(\"D://End to end project//Kidney-disease-classification-Deep-Learning-Project//artifacts//training//model.h5\")"
   ]
  },
  {
   "cell_type": "code",
   "execution_count": 17,
   "metadata": {},
   "outputs": [],
   "source": [
    "from dataclasses import dataclass\n",
    "from pathlib import Path\n",
    "\n",
    "@dataclass(frozen=True)\n",
    "class EvaluationConfig:\n",
    "    path_of_model: Path\n",
    "    training_data: Path\n",
    "    all_params: dict\n",
    "    mlflow_uri: str\n",
    "    params_image_size: list\n",
    "    params_batch_size: int"
   ]
  },
  {
   "cell_type": "code",
   "execution_count": 33,
   "metadata": {},
   "outputs": [],
   "source": [
    "import sys\n",
    "sys.path.insert(1,'D://End to end project//Kidney-disease-classification-Deep-Learning-Project//src//CNN_Classifier//constants//__init__.py')\n",
    "from __init__ import *"
   ]
  },
  {
   "cell_type": "code",
   "execution_count": 38,
   "metadata": {},
   "outputs": [
    {
     "ename": "ModuleNotFoundError",
     "evalue": "No module named 'common'",
     "output_type": "error",
     "traceback": [
      "\u001b[1;31m---------------------------------------------------------------------------\u001b[0m",
      "\u001b[1;31mModuleNotFoundError\u001b[0m                       Traceback (most recent call last)",
      "\u001b[1;32md:\\End to end project\\Kidney-disease-classification-Deep-Learning-Project\\research\\02_model_evaluation_with_mlflow.ipynb Cell 6\u001b[0m line \u001b[0;36m3\n\u001b[0;32m      <a href='vscode-notebook-cell:/d%3A/End%20to%20end%20project/Kidney-disease-classification-Deep-Learning-Project/research/02_model_evaluation_with_mlflow.ipynb#W4sZmlsZQ%3D%3D?line=0'>1</a>\u001b[0m \u001b[39mimport\u001b[39;00m \u001b[39msys\u001b[39;00m\n\u001b[0;32m      <a href='vscode-notebook-cell:/d%3A/End%20to%20end%20project/Kidney-disease-classification-Deep-Learning-Project/research/02_model_evaluation_with_mlflow.ipynb#W4sZmlsZQ%3D%3D?line=1'>2</a>\u001b[0m sys\u001b[39m.\u001b[39mpath\u001b[39m.\u001b[39minsert(\u001b[39m1\u001b[39m,\u001b[39m'\u001b[39m\u001b[39mD://End to end project//Kidney-disease-classification-Deep-Learning-Project//src//CNN_Classifier//utils//common.py\u001b[39m\u001b[39m'\u001b[39m)\n\u001b[1;32m----> <a href='vscode-notebook-cell:/d%3A/End%20to%20end%20project/Kidney-disease-classification-Deep-Learning-Project/research/02_model_evaluation_with_mlflow.ipynb#W4sZmlsZQ%3D%3D?line=2'>3</a>\u001b[0m \u001b[39mfrom\u001b[39;00m \u001b[39mcommon\u001b[39;00m \u001b[39mimport\u001b[39;00m read_yaml, create_directories, save_json\n",
      "\u001b[1;31mModuleNotFoundError\u001b[0m: No module named 'common'"
     ]
    }
   ],
   "source": [
    "import sys\n",
    "sys.path.insert(1,'D://End to end project//Kidney-disease-classification-Deep-Learning-Project//src//CNN_Classifier//utils//common.py')\n",
    "from common import read_yaml, create_directories, save_json\n"
   ]
  }
 ],
 "metadata": {
  "kernelspec": {
   "display_name": "env",
   "language": "python",
   "name": "python3"
  },
  "language_info": {
   "codemirror_mode": {
    "name": "ipython",
    "version": 3
   },
   "file_extension": ".py",
   "mimetype": "text/x-python",
   "name": "python",
   "nbconvert_exporter": "python",
   "pygments_lexer": "ipython3",
   "version": "3.11.5"
  }
 },
 "nbformat": 4,
 "nbformat_minor": 2
}
